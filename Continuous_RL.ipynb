{
 "cells": [
  {
   "cell_type": "markdown",
   "metadata": {},
   "source": [
    "# Udacity 2nd Project for Reinforcement Learning\n",
    "\n",
    "---\n",
    "\n",
    "You are welcome to use this coding environment to train your agent for the project.  Follow the instructions below to get started!\n",
    "\n",
    "### 1. Start the Environment\n",
    "\n",
    "Run the next code cell to install a few packages.  This line will take a few minutes to run!"
   ]
  },
  {
   "cell_type": "code",
   "execution_count": 2,
   "metadata": {},
   "outputs": [],
   "source": [
    "!pip -q install ./python\n"
   ]
  },
  {
   "cell_type": "code",
   "execution_count": 3,
   "metadata": {},
   "outputs": [],
   "source": [
    "import random\n",
    "import torch\n",
    "import numpy as np\n",
    "from collections import deque\n",
    "import matplotlib.pyplot as plt\n",
    "%matplotlib inline\n",
    "from itertools import count\n",
    "from ddpg_agent import Agent,ReplayBuffer\n",
    "from time import time\n"
   ]
  },
  {
   "cell_type": "markdown",
   "metadata": {},
   "source": [
    "The environments corresponding to both versions of the environment are already saved in the Workspace and can be accessed at the file paths provided below.  \n",
    "\n",
    "Please select one of the two options below for loading the environment."
   ]
  },
  {
   "cell_type": "code",
   "execution_count": 4,
   "metadata": {},
   "outputs": [
    {
     "name": "stderr",
     "output_type": "stream",
     "text": [
      "INFO:unityagents:\n",
      "'Academy' started successfully!\n",
      "Unity Academy name: Academy\n",
      "        Number of Brains: 1\n",
      "        Number of External Brains : 1\n",
      "        Lesson number : 0\n",
      "        Reset Parameters :\n",
      "\t\tgoal_speed -> 1.0\n",
      "\t\tgoal_size -> 5.0\n",
      "Unity brain name: ReacherBrain\n",
      "        Number of Visual Observations (per agent): 0\n",
      "        Vector Observation space type: continuous\n",
      "        Vector Observation space size (per agent): 33\n",
      "        Number of stacked Vector Observation: 1\n",
      "        Vector Action space type: continuous\n",
      "        Vector Action space size (per agent): 4\n",
      "        Vector Action descriptions: , , , \n"
     ]
    }
   ],
   "source": [
    "from unityagents import UnityEnvironment\n",
    "import numpy as np\n",
    "\n",
    "# select this option to load version 1 (with a single agent) of the environment\n",
    "#env = UnityEnvironment(file_name='/data/Reacher_One_Linux_NoVis/Reacher_One_Linux_NoVis.x86_64')\n",
    "\n",
    "# select this option to load version 2 (with 20 agents) of the environment\n",
    "env = UnityEnvironment(file_name='/data/Reacher_Linux_NoVis/Reacher.x86_64')"
   ]
  },
  {
   "cell_type": "markdown",
   "metadata": {},
   "source": [
    "Environments contain **_brains_** which are responsible for deciding the actions of their associated agents. Here we check for the first brain available, and set it as the default brain we will be controlling from Python."
   ]
  },
  {
   "cell_type": "code",
   "execution_count": 5,
   "metadata": {},
   "outputs": [],
   "source": [
    "# get the default brain\n",
    "brain_name = env.brain_names[0]\n",
    "brain = env.brains[brain_name]"
   ]
  },
  {
   "cell_type": "markdown",
   "metadata": {},
   "source": [
    "### 2. Examine the State and Action Spaces\n",
    "\n",
    "Run the code cell below to print some information about the environment."
   ]
  },
  {
   "cell_type": "code",
   "execution_count": 6,
   "metadata": {
    "scrolled": true
   },
   "outputs": [
    {
     "name": "stdout",
     "output_type": "stream",
     "text": [
      "Number of agents: 20\n",
      "Size of each action: 4\n",
      "There are 20 agents. Each observes a state with length: 33\n",
      "The state for the first agent looks like: [  0.00000000e+00  -4.00000000e+00   0.00000000e+00   1.00000000e+00\n",
      "  -0.00000000e+00  -0.00000000e+00  -4.37113883e-08   0.00000000e+00\n",
      "   0.00000000e+00   0.00000000e+00   0.00000000e+00   0.00000000e+00\n",
      "   0.00000000e+00   0.00000000e+00  -1.00000000e+01   0.00000000e+00\n",
      "   1.00000000e+00  -0.00000000e+00  -0.00000000e+00  -4.37113883e-08\n",
      "   0.00000000e+00   0.00000000e+00   0.00000000e+00   0.00000000e+00\n",
      "   0.00000000e+00   0.00000000e+00   5.75471878e+00  -1.00000000e+00\n",
      "   5.55726624e+00   0.00000000e+00   1.00000000e+00   0.00000000e+00\n",
      "  -1.68164849e-01]\n"
     ]
    }
   ],
   "source": [
    "# reset the environment\n",
    "env_info = env.reset(train_mode=True)[brain_name]\n",
    "\n",
    "# number of agents\n",
    "num_agents = len(env_info.agents)\n",
    "print('Number of agents:', num_agents)\n",
    "\n",
    "# size of each action\n",
    "action_size = brain.vector_action_space_size\n",
    "print('Size of each action:', action_size)\n",
    "\n",
    "# examine the state space \n",
    "states = env_info.vector_observations\n",
    "state_size = states.shape[1]\n",
    "print('There are {} agents. Each observes a state with length: {}'.format(states.shape[0], state_size))\n",
    "print('The state for the first agent looks like:', states[0])\n",
    "\n",
    "\n",
    "\n",
    "\n"
   ]
  },
  {
   "cell_type": "code",
   "execution_count": 7,
   "metadata": {},
   "outputs": [],
   "source": [
    "BUFFER_SIZE = int(8e5)  # replay buffer size\n",
    "CACHE_SIZE = int(6e4)  ## small buffer to focus on most recent experiences\n",
    "BATCH_SIZE = 200        \n",
    "random_seed=4\n"
   ]
  },
  {
   "cell_type": "code",
   "execution_count": 8,
   "metadata": {},
   "outputs": [],
   "source": [
    "buffers = [ReplayBuffer(action_size, BUFFER_SIZE, BATCH_SIZE, random_seed),\n",
    "           ReplayBuffer(action_size, CACHE_SIZE, BATCH_SIZE, random_seed)]\n",
    "agent = Agent(state_size=state_size, action_size=action_size, random_seed=4)\n"
   ]
  },
  {
   "cell_type": "markdown",
   "metadata": {},
   "source": [
    "## Load weights from checkpoints"
   ]
  },
  {
   "cell_type": "code",
   "execution_count": 9,
   "metadata": {},
   "outputs": [],
   "source": [
    "agent.critic.load_state_dict(torch.load('checkpoint_critic.pth'))\n",
    "agent.actor.load_state_dict(torch.load('checkpoint_actor.pth'))\n"
   ]
  },
  {
   "cell_type": "markdown",
   "metadata": {},
   "source": [
    "## Train with DDGP"
   ]
  },
  {
   "cell_type": "code",
   "execution_count": 10,
   "metadata": {},
   "outputs": [
    {
     "name": "stdout",
     "output_type": "stream",
     "text": [
      "Episode 1\tAverage Score: 0.37\n",
      "Episode 2\tAverage Score: 0.31\n",
      "Episode 3\tAverage Score: 0.21\n",
      "Episode 4\tAverage Score: 0.40\n",
      "Episode 5\tAverage Score: 0.44\n",
      "Episode 6\tAverage Score: 0.15\n",
      "Episode 7\tAverage Score: 0.39\n",
      "Episode 8\tAverage Score: 0.23\n",
      "Episode 9\tAverage Score: 0.33\n",
      "Episode 10\tAverage Score: 0.28\n",
      "Episode 11\tAverage Score: 0.65\n",
      "Episode 12\tAverage Score: 0.27\n",
      "Episode 13\tAverage Score: 0.25\n",
      "Episode 14\tAverage Score: 0.57\n",
      "Episode 15\tAverage Score: 0.42\n",
      "Episode 16\tAverage Score: 0.68\n",
      "Episode 17\tAverage Score: 0.62\n",
      "Episode 18\tAverage Score: 0.39\n",
      "Episode 19\tAverage Score: 0.23\n",
      "Episode 20\tAverage Score: 0.25\n",
      "Episode 21\tAverage Score: 0.20\n",
      "Episode 22\tAverage Score: 0.33\n",
      "Episode 23\tAverage Score: 0.43\n",
      "Episode 24\tAverage Score: 0.31\n",
      "Episode 25\tAverage Score: 0.24\n",
      "Episode 26\tAverage Score: 0.94\n",
      "Episode 27\tAverage Score: 4.63\n",
      "Episode 28\tAverage Score: 3.74\n",
      "Episode 29\tAverage Score: 3.65\n",
      "Episode 30\tAverage Score: 3.31\n",
      "Episode 31\tAverage Score: 1.84\n",
      "Episode 32\tAverage Score: 2.75\n",
      "Episode 33\tAverage Score: 5.33\n",
      "Episode 34\tAverage Score: 3.96\n",
      "Episode 35\tAverage Score: 3.35\n",
      "Episode 36\tAverage Score: 4.44\n",
      "Episode 37\tAverage Score: 7.25\n",
      "Episode 38\tAverage Score: 8.88\n",
      "Episode 39\tAverage Score: 7.89\n",
      "Episode 40\tAverage Score: 10.75\n",
      "Episode 41\tAverage Score: 10.69\n",
      "Episode 42\tAverage Score: 15.10\n",
      "Episode 43\tAverage Score: 18.00\n",
      "Episode 44\tAverage Score: 13.82\n",
      "Episode 45\tAverage Score: 13.12\n",
      "Episode 46\tAverage Score: 13.47\n",
      "Episode 47\tAverage Score: 16.16\n",
      "Episode 48\tAverage Score: 12.50\n",
      "Episode 49\tAverage Score: 15.69\n",
      "Episode 50\tAverage Score: 17.41\n",
      "Episode 51\tAverage Score: 16.17\n",
      "Episode 52\tAverage Score: 18.17\n",
      "Episode 53\tAverage Score: 15.68\n",
      "Episode 54\tAverage Score: 16.60\n",
      "Episode 55\tAverage Score: 17.53\n",
      "Episode 56\tAverage Score: 17.78\n",
      "Episode 57\tAverage Score: 16.56\n",
      "Episode 58\tAverage Score: 18.87\n",
      "Episode 59\tAverage Score: 18.22\n",
      "Episode 60\tAverage Score: 18.87\n",
      "Episode 61\tAverage Score: 22.66\n",
      "Episode 62\tAverage Score: 21.18\n",
      "Episode 63\tAverage Score: 25.46\n",
      "Episode 64\tAverage Score: 24.23\n",
      "Episode 65\tAverage Score: 26.92\n",
      "Episode 66\tAverage Score: 26.66\n",
      "Episode 67\tAverage Score: 28.11\n",
      "Episode 68\tAverage Score: 24.69\n",
      "Episode 69\tAverage Score: 27.47\n",
      "Episode 70\tAverage Score: 25.94\n",
      "Episode 71\tAverage Score: 29.30\n",
      "Episode 72\tAverage Score: 30.42\n",
      "Episode 73\tAverage Score: 28.07\n",
      "Episode 74\tAverage Score: 23.53\n",
      "Episode 75\tAverage Score: 25.13\n",
      "Episode 76\tAverage Score: 28.55\n",
      "Episode 77\tAverage Score: 24.49\n",
      "Episode 78\tAverage Score: 26.57\n",
      "Episode 79\tAverage Score: 27.10\n",
      "Episode 80\tAverage Score: 26.41\n",
      "Episode 81\tAverage Score: 25.26\n",
      "Episode 82\tAverage Score: 30.22\n",
      "Episode 83\tAverage Score: 30.32\n",
      "Episode 84\tAverage Score: 27.38\n",
      "Episode 85\tAverage Score: 25.05\n",
      "Episode 86\tAverage Score: 26.48\n",
      "Episode 87\tAverage Score: 27.96\n",
      "Episode 88\tAverage Score: 30.20\n",
      "Episode 89\tAverage Score: 32.20\n",
      "Episode 90\tAverage Score: 31.09\n",
      "Episode 91\tAverage Score: 31.90\n",
      "Episode 92\tAverage Score: 33.38\n",
      "Episode 93\tAverage Score: 36.03\n",
      "Episode 94\tAverage Score: 35.71\n",
      "Episode 95\tAverage Score: 36.61\n",
      "Episode 96\tAverage Score: 35.42\n",
      "Episode 97\tAverage Score: 34.90\n",
      "Episode 98\tAverage Score: 35.71\n",
      "Episode 99\tAverage Score: 37.09\n",
      "Episode 100\tAverage Score: 36.66\n",
      "Episode 101\tAverage Score: 35.79\n",
      "Episode 102\tAverage Score: 33.90\n",
      "Episode 103\tAverage Score: 33.24\n",
      "Episode 104\tAverage Score: 33.83\n",
      "Episode 105\tAverage Score: 33.58\n",
      "Episode 106\tAverage Score: 33.31\n",
      "Episode 107\tAverage Score: 35.04\n",
      "Episode 108\tAverage Score: 35.46\n",
      "Episode 109\tAverage Score: 32.89\n",
      "Episode 110\tAverage Score: 33.91\n",
      "Episode 111\tAverage Score: 31.10\n",
      "Episode 112\tAverage Score: 33.22\n",
      "Episode 113\tAverage Score: 37.93\n",
      "Episode 114\tAverage Score: 36.70\n",
      "Episode 115\tAverage Score: 35.56\n",
      "Episode 116\tAverage Score: 36.43\n",
      "Episode 117\tAverage Score: 35.95\n",
      "Episode 118\tAverage Score: 34.93\n",
      "Episode 119\tAverage Score: 35.65\n",
      "Episode 120\tAverage Score: 36.28\n",
      "Episode 121\tAverage Score: 34.18\n",
      "Episode 122\tAverage Score: 35.00\n",
      "Episode 123\tAverage Score: 35.51\n",
      "Episode 124\tAverage Score: 37.04\n",
      "Episode 125\tAverage Score: 35.58\n",
      "Episode 126\tAverage Score: 34.32\n",
      "Episode 127\tAverage Score: 36.95\n",
      "Episode 128\tAverage Score: 34.84\n",
      "Episode 129\tAverage Score: 37.05\n",
      "Episode 130\tAverage Score: 36.62\n",
      "Episode 131\tAverage Score: 36.30\n",
      "Episode 132\tAverage Score: 36.54\n",
      "Episode 133\tAverage Score: 35.92\n",
      "Episode 134\tAverage Score: 35.91\n",
      "Episode 135\tAverage Score: 36.38\n",
      "Episode 136\tAverage Score: 35.92\n",
      "Episode 137\tAverage Score: 35.65\n",
      "Episode 138\tAverage Score: 35.51\n",
      "Episode 139\tAverage Score: 34.79\n",
      "Episode 140\tAverage Score: 34.79\n",
      "Episode 141\tAverage Score: 33.25\n",
      "Episode 142\tAverage Score: 32.45\n",
      "Episode 143\tAverage Score: 34.73\n",
      "Episode 144\tAverage Score: 36.23\n",
      "Episode 145\tAverage Score: 36.40\n",
      "Episode 146\tAverage Score: 36.56\n",
      "Solved in 5000 episodes and Avg score is 30.177994 :\n",
      "training time was 3640.4746782779694\n"
     ]
    },
    {
     "data": {
      "image/png": "[encoded data removed]",
      "text/plain": [
       "<matplotlib.figure.Figure at 0x7faf82a1ec18>"
      ]
     },
     "metadata": {
      "needs_background": "light"
     },
     "output_type": "display_data"
    }
   ],
   "source": [
    "def ddpg(agent,buffers,n_episodes=5000,save_every=10,avg_over=100):\n",
    "    \n",
    "  \n",
    "    \n",
    "    scores_deque = deque(maxlen=avg_over)\n",
    "    scores_global = []\n",
    "    \n",
    "    \n",
    "    t1=time()\n",
    "   \n",
    "    \n",
    "    for i_episode in range(1, n_episodes+1):\n",
    "        env_info = env.reset(train_mode=True)[brain_name]      # reset the environment    \n",
    "        states = env_info.vector_observations\n",
    "        agent.reset()\n",
    "        scores = np.zeros(num_agents)\n",
    "        \n",
    "        \n",
    "       \n",
    "        for t in count():\n",
    "            #print(1)\n",
    "            actions = agent.act(states,add_noise=True)\n",
    "            #print(actions)\n",
    "            env_info = env.step(actions)[brain_name]           # send all actions to tne environment\n",
    "            next_states = env_info.vector_observations         # get next state (for each agent)\n",
    "            rewards = env_info.rewards\n",
    "            \n",
    "            dones = env_info.local_done                                                 # get reward (for each agent)\n",
    "            #store(buffers, states, actions, rewards, next_states, dones, t)\n",
    "            #learn(agent, buffers, t)\n",
    "            agent.step(buffers,states, actions, rewards, next_states, dones,t)\n",
    "            #print(dones)\n",
    "            \n",
    "            \n",
    "            states = next_states\n",
    "            #print(rewards)\n",
    "            scores += rewards\n",
    "            if np.any(dones):\n",
    "                break \n",
    "        score = np.mean(scores)        \n",
    "        scores_deque.append(score)\n",
    "        score_average = np.mean(scores_deque)\n",
    "        scores_global.append(score)\n",
    "          \n",
    "        print('\\rEpisode {}\\tAverage Score: {:.2f}'.format(i_episode, score), end=\"\\n\")\n",
    "        \n",
    "        if score_average>=30.0:\n",
    "            \n",
    "            print('Solved in %d episodes and Avg score is %f :'%(i_episodes,np.mean(scores_deque)))\n",
    "            \n",
    "            torch.save(agent.actor.state_dict(), 'checkpoint_actor.pth')\n",
    "            torch.save(agent.critic.state_dict(), 'checkpoint_critic.pth')\n",
    "            break\n",
    "        \n",
    "        \n",
    "        if i_episode % save_every == 0:\n",
    "            torch.save(agent.actor.state_dict(), 'checkpoint_actor.pth')\n",
    "            torch.save(agent.critic.state_dict(), 'checkpoint_critic.pth')\n",
    "        \n",
    "        \n",
    "        \n",
    "        \n",
    "    t2=time()\n",
    "    \n",
    "    print('training time was',t2-t1)\n",
    "    \n",
    "    return scores_global\n",
    "\n",
    "scores = ddpg(agent,buffers)\n",
    "\n",
    "fig = plt.figure()\n",
    "ax = fig.add_subplot(111)\n",
    "plt.plot(np.arange(1, len(scores)+1), scores)\n",
    "plt.ylabel('Score')\n",
    "plt.xlabel('Episode #')\n",
    "plt.show()"
   ]
  },
  {
   "cell_type": "markdown",
   "metadata": {},
   "source": [
    "### 3. Test the train model in the Environment\n",
    "\n",
    "In the next code cell, you will learn how to use the Python API to control the agent and receive feedback from the environment.\n",
    "\n",
    "Note that **in this coding environment, you will not be able to watch the agents while they are training**, and you should set `train_mode=True` to restart the environment."
   ]
  },
  {
   "cell_type": "code",
   "execution_count": 13,
   "metadata": {},
   "outputs": [
    {
     "name": "stdout",
     "output_type": "stream",
     "text": [
      "Total score (averaged over agents) this episode: 23.25049948031083\n"
     ]
    }
   ],
   "source": [
    "env_info = env.reset(train_mode=True)[brain_name]      # reset the environment    \n",
    "states = env_info.vector_observations                  # get the current state (for each agent)\n",
    "scores = np.zeros(num_agents)                          # initialize the score (for each agent)\n",
    "while True:\n",
    "    #actions = np.random.randn(num_agents, action_size) # select an action (for each agent)\n",
    "    #actions = np.clip(actions, -1, 1)                  # all actions between -1 and 1\n",
    "    actions=agent.act(state=states)\n",
    "    env_info = env.step(actions)[brain_name]           # send all actions to tne environment\n",
    "    next_states = env_info.vector_observations         # get next state (for each agent)\n",
    "    rewards = env_info.rewards                         # get reward (for each agent)\n",
    "   # print(rewards)\n",
    "    dones = env_info.local_done                        # see if episode finished\n",
    "    scores += env_info.rewards                         # update the score (for each agent)\n",
    "    states = next_states                               # roll over states to next time step\n",
    "    if np.any(dones):                                  # exit loop if episode finished\n",
    "        break\n",
    "print('Total score (averaged over agents) this episode: {}'.format(np.mean(scores)))"
   ]
  },
  {
   "cell_type": "markdown",
   "metadata": {},
   "source": [
    "When finished, you can close the environment."
   ]
  },
  {
   "cell_type": "code",
   "execution_count": null,
   "metadata": {},
   "outputs": [],
   "source": [
    "env.close()"
   ]
  },
  {
   "cell_type": "markdown",
   "metadata": {},
   "source": [
    "### 4. It's Your Turn!\n",
    "\n",
    "Now it's your turn to train your own agent to solve the environment!  A few **important notes**:\n",
    "- When training the environment, set `train_mode=True`, so that the line for resetting the environment looks like the following:\n",
    "```python\n",
    "env_info = env.reset(train_mode=True)[brain_name]\n",
    "```\n",
    "- To structure your work, you're welcome to work directly in this Jupyter notebook, or you might like to start over with a new file!  You can see the list of files in the workspace by clicking on **_Jupyter_** in the top left corner of the notebook.\n",
    "- In this coding environment, you will not be able to watch the agents while they are training.  However, **_after training the agents_**, you can download the saved model weights to watch the agents on your own machine! "
   ]
  }
 ],
 "metadata": {
  "kernelspec": {
   "display_name": "Python 3",
   "language": "python",
   "name": "python3"
  },
  "language_info": {
   "codemirror_mode": {
    "name": "ipython",
    "version": 3
   },
   "file_extension": ".py",
   "mimetype": "text/x-python",
   "name": "python",
   "nbconvert_exporter": "python",
   "pygments_lexer": "ipython3",
   "version": "3.6.3"
  }
 },
 "nbformat": 4,
 "nbformat_minor": 2
}
